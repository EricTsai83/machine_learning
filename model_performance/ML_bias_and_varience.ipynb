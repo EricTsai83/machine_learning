{
 "cells": [
  {
   "cell_type": "markdown",
   "id": "6c17f434-2cdf-47ef-a059-e6dee5eace88",
   "metadata": {},
   "source": [
    "# How to use bias and variance to identify overfitting and underfitting?"
   ]
  },
  {
   "cell_type": "markdown",
   "id": "e9f28f95-0692-4b5c-835d-cddaee92c4c2",
   "metadata": {},
   "source": [
    "### Import library"
   ]
  },
  {
   "cell_type": "code",
   "execution_count": 1,
   "id": "4ddc4b65-0ef8-4220-9b43-298fe1e180fd",
   "metadata": {
    "execution": {
     "iopub.execute_input": "2021-04-10T16:47:42.732973Z",
     "iopub.status.busy": "2021-04-10T16:47:42.732973Z",
     "iopub.status.idle": "2021-04-10T16:47:45.834355Z",
     "shell.execute_reply": "2021-04-10T16:47:45.832352Z",
     "shell.execute_reply.started": "2021-04-10T16:47:42.732973Z"
    },
    "tags": []
   },
   "outputs": [],
   "source": [
    "import random\n",
    "import pandas as pd\n",
    "import numpy as np\n",
    "import matplotlib.pyplot as plt\n",
    "\n",
    "from sklearn.model_selection import train_test_split\n",
    "from sklearn.linear_model import LinearRegression\n",
    "from sklearn.preprocessing import PolynomialFeatures\n",
    "from sklearn.tree import DecisionTreeRegressor\n",
    "\n",
    "from mlxtend.evaluate import bias_variance_decomp\n",
    "from sklearn.pipeline import make_pipeline"
   ]
  },
  {
   "cell_type": "markdown",
   "id": "bbfb2658-dfcc-4269-8277-82d5bcd1a273",
   "metadata": {},
   "source": [
    "## Step1. generate fack data"
   ]
  },
  {
   "cell_type": "markdown",
   "id": "5a805ce4-40ca-4f47-829e-4d35107b6ba4",
   "metadata": {},
   "source": [
    "#### Circle Parametric form\n",
    "[Reference](https://en.wikipedia.org/wiki/Circle)"
   ]
  },
  {
   "cell_type": "markdown",
   "id": "31466ec8-542c-4713-8950-12c3cd774623",
   "metadata": {},
   "source": [
    "${\\displaystyle x=a+r\\,\\cos t}$<br>\n",
    "${\\displaystyle y=b+r\\,\\sin t}$"
   ]
  },
  {
   "cell_type": "code",
   "execution_count": 2,
   "id": "8d98f997-d527-4089-957a-225c18df97ae",
   "metadata": {
    "execution": {
     "iopub.execute_input": "2021-04-10T16:47:45.836354Z",
     "iopub.status.busy": "2021-04-10T16:47:45.836354Z",
     "iopub.status.idle": "2021-04-10T16:47:46.220296Z",
     "shell.execute_reply": "2021-04-10T16:47:46.218316Z",
     "shell.execute_reply.started": "2021-04-10T16:47:45.836354Z"
    },
    "tags": []
   },
   "outputs": [
    {
     "data": {
      "image/png": "[encoded data removed]",
      "text/plain": [
       "<Figure size 432x288 with 1 Axes>"
      ]
     },
     "metadata": {
      "needs_background": "light"
     },
     "output_type": "display_data"
    }
   ],
   "source": [
    "rad = 0.4  # radius\n",
    "thk = 0.2  # thickness\n",
    "n_data_points = 30\n",
    "#  create semi circle fack data by random parameter\n",
    "r = np.random.rand(n_data_points)*thk+rad\n",
    "a = np.random.rand(n_data_points)*np.pi\n",
    "\n",
    "# Circle Parametric form\n",
    "x = rad + thk + r*np.cos(a)\n",
    "y = rad + thk + r*np.sin(a)\n",
    "\n",
    "plt.scatter(x, y, marker='.', linewidths=0.1, s=150)\n",
    "\n",
    "plt.title('Generate semi circle fack data', fontsize=12)\n",
    "# plt.savefig(\"semi_circle_fack_data.png\", bbox_inches='tight')\n",
    "plt.show()"
   ]
  },
  {
   "cell_type": "code",
   "execution_count": 3,
   "id": "d73fc484-3681-4006-a9ff-89497bf42c33",
   "metadata": {
    "execution": {
     "iopub.execute_input": "2021-04-10T16:47:46.223295Z",
     "iopub.status.busy": "2021-04-10T16:47:46.222295Z",
     "iopub.status.idle": "2021-04-10T16:47:46.254294Z",
     "shell.execute_reply": "2021-04-10T16:47:46.251291Z",
     "shell.execute_reply.started": "2021-04-10T16:47:46.223295Z"
    },
    "tags": []
   },
   "outputs": [],
   "source": [
    "data = pd.DataFrame([x, y]).T\n",
    "data.columns=['x', 'y']"
   ]
  },
  {
   "cell_type": "code",
   "execution_count": 4,
   "id": "cd80f5aa-ce94-48e0-8cb5-f1ab0c8ae2db",
   "metadata": {
    "execution": {
     "iopub.execute_input": "2021-04-10T16:47:46.259290Z",
     "iopub.status.busy": "2021-04-10T16:47:46.258289Z",
     "iopub.status.idle": "2021-04-10T16:47:46.328278Z",
     "shell.execute_reply": "2021-04-10T16:47:46.326280Z",
     "shell.execute_reply.started": "2021-04-10T16:47:46.259290Z"
    },
    "tags": []
   },
   "outputs": [
    {
     "data": {
      "text/html": [
       "<div>\n",
       "<style scoped>\n",
       "    .dataframe tbody tr th:only-of-type {\n",
       "        vertical-align: middle;\n",
       "    }\n",
       "\n",
       "    .dataframe tbody tr th {\n",
       "        vertical-align: top;\n",
       "    }\n",
       "\n",
       "    .dataframe thead th {\n",
       "        text-align: right;\n",
       "    }\n",
       "</style>\n",
       "<table border=\"1\" class=\"dataframe\">\n",
       "  <thead>\n",
       "    <tr style=\"text-align: right;\">\n",
       "      <th></th>\n",
       "      <th>x</th>\n",
       "      <th>y</th>\n",
       "    </tr>\n",
       "  </thead>\n",
       "  <tbody>\n",
       "    <tr>\n",
       "      <th>0</th>\n",
       "      <td>1.061042</td>\n",
       "      <td>0.929257</td>\n",
       "    </tr>\n",
       "    <tr>\n",
       "      <th>1</th>\n",
       "      <td>0.619436</td>\n",
       "      <td>1.170811</td>\n",
       "    </tr>\n",
       "    <tr>\n",
       "      <th>2</th>\n",
       "      <td>0.231719</td>\n",
       "      <td>0.854840</td>\n",
       "    </tr>\n",
       "    <tr>\n",
       "      <th>3</th>\n",
       "      <td>0.848947</td>\n",
       "      <td>1.020863</td>\n",
       "    </tr>\n",
       "    <tr>\n",
       "      <th>4</th>\n",
       "      <td>0.433454</td>\n",
       "      <td>1.051867</td>\n",
       "    </tr>\n",
       "  </tbody>\n",
       "</table>\n",
       "</div>"
      ],
      "text/plain": [
       "          x         y\n",
       "0  1.061042  0.929257\n",
       "1  0.619436  1.170811\n",
       "2  0.231719  0.854840\n",
       "3  0.848947  1.020863\n",
       "4  0.433454  1.051867"
      ]
     },
     "execution_count": 4,
     "metadata": {},
     "output_type": "execute_result"
    }
   ],
   "source": [
    "data.head()"
   ]
  },
  {
   "cell_type": "markdown",
   "id": "51cff4ee-17fd-4b31-ae83-f7ef353063d5",
   "metadata": {},
   "source": [
    "## Step2. split data"
   ]
  },
  {
   "cell_type": "code",
   "execution_count": 5,
   "id": "0f0f4137-632d-426b-ba37-0f1c2193ef1d",
   "metadata": {
    "execution": {
     "iopub.execute_input": "2021-04-10T16:47:46.330277Z",
     "iopub.status.busy": "2021-04-10T16:47:46.329276Z",
     "iopub.status.idle": "2021-04-10T16:47:46.343076Z",
     "shell.execute_reply": "2021-04-10T16:47:46.341074Z",
     "shell.execute_reply.started": "2021-04-10T16:47:46.330277Z"
    },
    "tags": []
   },
   "outputs": [],
   "source": [
    "x = np.array(data['x'])\n",
    "y = np.array(data['y'])\n",
    "# split the data\n",
    "X_train, X_test, y_train, y_test = train_test_split(x, y, test_size=0.33, random_state=20210410)"
   ]
  },
  {
   "cell_type": "code",
   "execution_count": 6,
   "id": "874c51b3-0311-4b67-b57a-a69357d22258",
   "metadata": {
    "execution": {
     "iopub.execute_input": "2021-04-10T16:47:46.345079Z",
     "iopub.status.busy": "2021-04-10T16:47:46.345079Z",
     "iopub.status.idle": "2021-04-10T16:47:46.358489Z",
     "shell.execute_reply": "2021-04-10T16:47:46.356486Z",
     "shell.execute_reply.started": "2021-04-10T16:47:46.345079Z"
    },
    "tags": []
   },
   "outputs": [
    {
     "data": {
      "text/plain": [
       "(array([0.15375943, 1.09005067, 1.0288038 , 0.19816643, 1.07752274,\n",
       "        1.05001778, 0.12375163, 1.05400663, 0.10916348, 0.80462438,\n",
       "        0.1289383 , 1.06104227, 0.27243989, 0.94685235, 1.19167392,\n",
       "        0.43345396, 0.23171854, 0.4979532 , 0.0493967 , 0.21033936]),\n",
       " array([0.62640755, 0.62089376, 0.65676691, 0.68240737, 0.62759019,\n",
       "        0.68238546, 0.61799433, 0.73139258, 0.68548103, 1.12958792,\n",
       "        0.66512126, 0.92925679, 0.99630085, 1.00331107, 0.60542226,\n",
       "        1.05186662, 0.85483956, 1.03020564, 0.6713642 , 1.0107706 ]))"
      ]
     },
     "execution_count": 6,
     "metadata": {},
     "output_type": "execute_result"
    }
   ],
   "source": [
    "X_train, y_train"
   ]
  },
  {
   "cell_type": "code",
   "execution_count": 7,
   "id": "7da54ddf-af79-4abf-935e-9a7bebb50026",
   "metadata": {
    "execution": {
     "iopub.execute_input": "2021-04-10T16:47:46.362488Z",
     "iopub.status.busy": "2021-04-10T16:47:46.361487Z",
     "iopub.status.idle": "2021-04-10T16:47:46.374488Z",
     "shell.execute_reply": "2021-04-10T16:47:46.372489Z",
     "shell.execute_reply.started": "2021-04-10T16:47:46.362488Z"
    },
    "tags": []
   },
   "outputs": [
    {
     "data": {
      "text/plain": [
       "(array([0.55674654, 0.89403786, 0.6849695 , 0.72694586, 0.24909666,\n",
       "        0.92683996, 0.72324517, 0.61943638, 0.84894719, 1.0318868 ]),\n",
       " array([1.17718392, 1.11235689, 1.07318802, 1.116465  , 0.83639019,\n",
       "        0.87374684, 1.02912404, 1.17081133, 1.02086254, 0.75992279]))"
      ]
     },
     "execution_count": 7,
     "metadata": {},
     "output_type": "execute_result"
    }
   ],
   "source": [
    "X_test, y_test"
   ]
  },
  {
   "cell_type": "code",
   "execution_count": 8,
   "id": "1af20ac0-19d7-4fb9-9bf6-81caa7782812",
   "metadata": {
    "execution": {
     "iopub.execute_input": "2021-04-10T16:47:46.376486Z",
     "iopub.status.busy": "2021-04-10T16:47:46.376486Z",
     "iopub.status.idle": "2021-04-10T16:47:46.606964Z",
     "shell.execute_reply": "2021-04-10T16:47:46.604961Z",
     "shell.execute_reply.started": "2021-04-10T16:47:46.376486Z"
    },
    "tags": []
   },
   "outputs": [
    {
     "data": {
      "image/png": "[encoded data removed]",
      "text/plain": [
       "<Figure size 432x288 with 1 Axes>"
      ]
     },
     "metadata": {
      "needs_background": "light"
     },
     "output_type": "display_data"
    }
   ],
   "source": [
    "plt.scatter(X_train, y_train, marker='.', linewidths=0.1, s=150)\n",
    "plt.scatter(X_test, y_test, marker='.', linewidths=0.1, s=150)\n",
    "plt.title('Blue is training data. Orange is test data.', fontsize=12)\n",
    "plt.show()"
   ]
  },
  {
   "cell_type": "code",
   "execution_count": 9,
   "id": "a777bee4-a992-4d0d-93fd-766b136eb01d",
   "metadata": {
    "execution": {
     "iopub.execute_input": "2021-04-10T16:47:46.608966Z",
     "iopub.status.busy": "2021-04-10T16:47:46.607967Z",
     "iopub.status.idle": "2021-04-10T16:47:46.621893Z",
     "shell.execute_reply": "2021-04-10T16:47:46.620888Z",
     "shell.execute_reply.started": "2021-04-10T16:47:46.608966Z"
    },
    "tags": []
   },
   "outputs": [],
   "source": [
    "# define the model\n",
    "lr_model = LinearRegression()"
   ]
  },
  {
   "cell_type": "code",
   "execution_count": 10,
   "id": "baa1cffa-7ed7-48ef-b6d2-791f4419772a",
   "metadata": {
    "execution": {
     "iopub.execute_input": "2021-04-10T16:47:46.623891Z",
     "iopub.status.busy": "2021-04-10T16:47:46.623891Z",
     "iopub.status.idle": "2021-04-10T16:47:46.637832Z",
     "shell.execute_reply": "2021-04-10T16:47:46.635826Z",
     "shell.execute_reply.started": "2021-04-10T16:47:46.623891Z"
    },
    "tags": []
   },
   "outputs": [],
   "source": [
    "X_train = X_train.reshape(-1, 1)\n",
    "X_test = X_test.reshape(-1, 1)"
   ]
  },
  {
   "cell_type": "markdown",
   "id": "07fc728c-f444-4bdf-9c9b-5563cc7f5088",
   "metadata": {},
   "source": [
    "## Step3. training model"
   ]
  },
  {
   "cell_type": "markdown",
   "id": "7f683417-0f3a-452a-8a58-dcbd0f6bdac3",
   "metadata": {},
   "source": [
    "### Linear Regression"
   ]
  },
  {
   "cell_type": "code",
   "execution_count": 11,
   "id": "35aef722-9841-43ba-a51b-d9552da77434",
   "metadata": {
    "execution": {
     "iopub.execute_input": "2021-04-10T16:47:46.638832Z",
     "iopub.status.busy": "2021-04-10T16:47:46.638832Z",
     "iopub.status.idle": "2021-04-10T16:47:46.653530Z",
     "shell.execute_reply": "2021-04-10T16:47:46.651521Z",
     "shell.execute_reply.started": "2021-04-10T16:47:46.638832Z"
    },
    "tags": []
   },
   "outputs": [
    {
     "data": {
      "text/plain": [
       "LinearRegression()"
      ]
     },
     "execution_count": 11,
     "metadata": {},
     "output_type": "execute_result"
    }
   ],
   "source": [
    "lr_model.fit(X_train, y_train)"
   ]
  },
  {
   "cell_type": "code",
   "execution_count": 12,
   "id": "3e12a8d8-0e08-4b6c-8ffe-b15868f8e5bc",
   "metadata": {
    "execution": {
     "iopub.execute_input": "2021-04-10T16:47:46.655525Z",
     "iopub.status.busy": "2021-04-10T16:47:46.655525Z",
     "iopub.status.idle": "2021-04-10T16:47:46.668521Z",
     "shell.execute_reply": "2021-04-10T16:47:46.666516Z",
     "shell.execute_reply.started": "2021-04-10T16:47:46.655525Z"
    },
    "tags": []
   },
   "outputs": [],
   "source": [
    "x_sample = np.linspace(min(data['x']), max(data['y']), 25)\n",
    "y_lr_predict = lr_model.predict(x_sample[:, np.newaxis])"
   ]
  },
  {
   "cell_type": "markdown",
   "id": "0fb7908f-9fce-4906-8333-94bb8c76c57f",
   "metadata": {},
   "source": [
    "### Decision Tree Regressor"
   ]
  },
  {
   "cell_type": "code",
   "execution_count": 13,
   "id": "e4754ea9-8484-4fc3-a1c1-cb686d2e3eae",
   "metadata": {
    "execution": {
     "iopub.execute_input": "2021-04-10T16:47:46.670521Z",
     "iopub.status.busy": "2021-04-10T16:47:46.669520Z",
     "iopub.status.idle": "2021-04-10T16:47:46.684286Z",
     "shell.execute_reply": "2021-04-10T16:47:46.682282Z",
     "shell.execute_reply.started": "2021-04-10T16:47:46.670521Z"
    },
    "tags": []
   },
   "outputs": [],
   "source": [
    "tree_model = DecisionTreeRegressor(random_state=20210410)"
   ]
  },
  {
   "cell_type": "code",
   "execution_count": 14,
   "id": "01a9a73a-ff47-4dc3-b205-0b2d6c7d11e4",
   "metadata": {
    "execution": {
     "iopub.execute_input": "2021-04-10T16:47:46.685111Z",
     "iopub.status.busy": "2021-04-10T16:47:46.685111Z",
     "iopub.status.idle": "2021-04-10T16:47:46.699813Z",
     "shell.execute_reply": "2021-04-10T16:47:46.697809Z",
     "shell.execute_reply.started": "2021-04-10T16:47:46.685111Z"
    },
    "tags": []
   },
   "outputs": [],
   "source": [
    "tree_model.fit(X_train, y_train)\n",
    "y_tree_predict = tree_model.predict(x_sample[:, np.newaxis])"
   ]
  },
  {
   "cell_type": "markdown",
   "id": "6aa84763-4252-4d92-9b67-de998398cedf",
   "metadata": {},
   "source": [
    "### Polynomial Basis Model"
   ]
  },
  {
   "cell_type": "markdown",
   "id": "f3a546fe-b650-450c-99ae-28e8e00ea496",
   "metadata": {},
   "source": [
    "#### degree=2"
   ]
  },
  {
   "cell_type": "code",
   "execution_count": 15,
   "id": "4fe1db04-882d-42e4-af09-9b7569d7affd",
   "metadata": {
    "execution": {
     "iopub.execute_input": "2021-04-10T16:47:46.702813Z",
     "iopub.status.busy": "2021-04-10T16:47:46.701815Z",
     "iopub.status.idle": "2021-04-10T16:47:46.714812Z",
     "shell.execute_reply": "2021-04-10T16:47:46.712834Z",
     "shell.execute_reply.started": "2021-04-10T16:47:46.702813Z"
    },
    "tags": []
   },
   "outputs": [],
   "source": [
    "poly_model_degree2 = make_pipeline(PolynomialFeatures(degree=2), LinearRegression())"
   ]
  },
  {
   "cell_type": "code",
   "execution_count": 16,
   "id": "98e280a2-7e46-4f21-9e37-f23bb9c3ef0d",
   "metadata": {
    "execution": {
     "iopub.execute_input": "2021-04-10T16:47:46.717811Z",
     "iopub.status.busy": "2021-04-10T16:47:46.716811Z",
     "iopub.status.idle": "2021-04-10T16:47:46.854789Z",
     "shell.execute_reply": "2021-04-10T16:47:46.852792Z",
     "shell.execute_reply.started": "2021-04-10T16:47:46.717811Z"
    },
    "tags": []
   },
   "outputs": [],
   "source": [
    "poly_model_degree2.fit(X_train, y_train)\n",
    "y_poly_degree2_predict = poly_model_degree2.predict(x_sample[:, np.newaxis])"
   ]
  },
  {
   "cell_type": "markdown",
   "id": "026067d5-c945-40b1-8eed-414bc237f643",
   "metadata": {},
   "source": [
    "#### degree=8"
   ]
  },
  {
   "cell_type": "code",
   "execution_count": 17,
   "id": "9958a29c-761f-41e2-993c-febce56e5c0d",
   "metadata": {
    "execution": {
     "iopub.execute_input": "2021-04-10T16:47:46.857789Z",
     "iopub.status.busy": "2021-04-10T16:47:46.856788Z",
     "iopub.status.idle": "2021-04-10T16:47:46.870787Z",
     "shell.execute_reply": "2021-04-10T16:47:46.868787Z",
     "shell.execute_reply.started": "2021-04-10T16:47:46.857789Z"
    },
    "tags": []
   },
   "outputs": [],
   "source": [
    "poly_model_degree27 = make_pipeline(PolynomialFeatures(degree=8), LinearRegression())"
   ]
  },
  {
   "cell_type": "code",
   "execution_count": 18,
   "id": "e7b73c98-d1e7-4ba7-be1c-50150f3e283a",
   "metadata": {
    "execution": {
     "iopub.execute_input": "2021-04-10T16:47:46.873787Z",
     "iopub.status.busy": "2021-04-10T16:47:46.872788Z",
     "iopub.status.idle": "2021-04-10T16:47:46.886785Z",
     "shell.execute_reply": "2021-04-10T16:47:46.884783Z",
     "shell.execute_reply.started": "2021-04-10T16:47:46.873787Z"
    },
    "tags": []
   },
   "outputs": [],
   "source": [
    "poly_model_degree27.fit(X_train, y_train)\n",
    "y_poly_degree27_predict = poly_model_degree27.predict(x_sample[:, np.newaxis])"
   ]
  },
  {
   "cell_type": "code",
   "execution_count": 19,
   "id": "874738dd-e94c-4181-926b-7513f3bf17c0",
   "metadata": {
    "execution": {
     "iopub.execute_input": "2021-04-10T16:47:46.894783Z",
     "iopub.status.busy": "2021-04-10T16:47:46.893784Z",
     "iopub.status.idle": "2021-04-10T16:47:48.674911Z",
     "shell.execute_reply": "2021-04-10T16:47:48.673912Z",
     "shell.execute_reply.started": "2021-04-10T16:47:46.894783Z"
    },
    "tags": []
   },
   "outputs": [
    {
     "data": {
      "image/png": "[encoded data removed]",
      "text/plain": [
       "<Figure size 1296x720 with 4 Axes>"
      ]
     },
     "metadata": {
      "needs_background": "light"
     },
     "output_type": "display_data"
    }
   ],
   "source": [
    "fig, axs = plt.subplots(2, 2, figsize=(18,10))\n",
    "fig.suptitle('Model training status', fontsize=30)\n",
    "\n",
    "for row, col, title in zip([0,0,1,1], [0,1,0,1], ['Linear Regression: Underfitting',\n",
    "                                                  'Decision Tree Regressor: Overfitting',\n",
    "                                                  'Polynomial Basis Model(degree=2): The best model',\n",
    "                                                  'Polynomial Basis Model(degree=8): Bad model']):\n",
    "    \n",
    "    axs[row, col].scatter(X_train, y_train, marker='.', linewidths=0.1, s=150)\n",
    "    axs[row, col].scatter(X_test, y_test, marker='.', linewidths=0.1, s=150)\n",
    "    axs[row, col].set_title(title, fontsize=20)\n",
    "\n",
    "    \n",
    "axs[0, 0].plot(x_sample, y_lr_predict, c='black')\n",
    "axs[0, 1].plot(x_sample, y_tree_predict, c='red')\n",
    "axs[1, 0].plot(x_sample, y_poly_degree2_predict, c='green')\n",
    "axs[1, 1].plot(x_sample, y_poly_degree27_predict, c='brown')\n",
    "\n",
    "\n",
    "for ax in axs.flat:\n",
    "    ax.set(xlabel='X', ylabel='Y')\n",
    "    \n",
    "# # Hide x labels and tick labels for top plots and y ticks for right plots.\n",
    "# for ax in axs.flat:\n",
    "#     ax.label_outer()\n",
    "\n",
    "plt.tight_layout()\n",
    "# plt.show()"
   ]
  },
  {
   "cell_type": "markdown",
   "id": "6ca75a95-8799-41c9-8958-f9dae6d6961f",
   "metadata": {},
   "source": [
    "## Step4. find out bias and variance"
   ]
  },
  {
   "cell_type": "markdown",
   "id": "d6bb5d23-cf58-4528-897e-2d0266aa9a58",
   "metadata": {},
   "source": [
    "[Reference](http://rasbt.github.io/mlxtend/user_guide/evaluate/bias_variance_decomp/)"
   ]
  },
  {
   "cell_type": "markdown",
   "id": "5b2618af-0229-4e6c-89ed-fa4eda7c225f",
   "metadata": {},
   "source": [
    "### Underfitting: low variance and high bias"
   ]
  },
  {
   "cell_type": "code",
   "execution_count": 20,
   "id": "63b629aa-6f9a-4e55-a463-ad38246b5626",
   "metadata": {
    "execution": {
     "iopub.execute_input": "2021-04-10T16:47:48.677911Z",
     "iopub.status.busy": "2021-04-10T16:47:48.676910Z",
     "iopub.status.idle": "2021-04-10T16:47:49.168835Z",
     "shell.execute_reply": "2021-04-10T16:47:49.166834Z",
     "shell.execute_reply.started": "2021-04-10T16:47:48.677911Z"
    },
    "tags": []
   },
   "outputs": [
    {
     "name": "stdout",
     "output_type": "stream",
     "text": [
      "Average expected loss(MSE): 0.070\n",
      "Average bias: 0.068\n",
      "Average variance: 0.002\n"
     ]
    }
   ],
   "source": [
    "# estimate bias and variance\n",
    "avg_expected_loss, avg_bias, avg_var = bias_variance_decomp(\n",
    "        lr_model, X_train, y_train, X_test, y_test,\n",
    "        loss='mse', \n",
    "        random_seed=20210410)\n",
    "\n",
    "# summarize results\n",
    "print('Average expected loss(MSE): %.3f' % avg_expected_loss)\n",
    "print('Average bias: %.3f' % avg_bias)\n",
    "print('Average variance: %.3f' % avg_var)"
   ]
  },
  {
   "cell_type": "markdown",
   "id": "4ad2ab2e-a11d-4252-92e0-5ae365b69a1e",
   "metadata": {},
   "source": [
    "### Overfitting: low bias and heigh varience"
   ]
  },
  {
   "cell_type": "code",
   "execution_count": 21,
   "id": "1f84679f-1ed8-4637-bf4a-5c96ec91f6b9",
   "metadata": {
    "execution": {
     "iopub.execute_input": "2021-04-10T16:47:49.171833Z",
     "iopub.status.busy": "2021-04-10T16:47:49.170835Z",
     "iopub.status.idle": "2021-04-10T16:47:49.499782Z",
     "shell.execute_reply": "2021-04-10T16:47:49.497783Z",
     "shell.execute_reply.started": "2021-04-10T16:47:49.171833Z"
    },
    "tags": []
   },
   "outputs": [
    {
     "name": "stdout",
     "output_type": "stream",
     "text": [
      "Average expected loss(MSE): 0.015\n",
      "Average bias: 0.007\n",
      "Average variance: 0.009\n"
     ]
    }
   ],
   "source": [
    "avg_expected_loss, avg_bias, avg_var = bias_variance_decomp(\n",
    "        tree_model, X_train, y_train, X_test, y_test, \n",
    "        loss='mse',\n",
    "        random_seed=20210410)\n",
    "\n",
    "# summarize results\n",
    "print('Average expected loss(MSE): %.3f' % avg_expected_loss)\n",
    "print('Average bias: %.3f' % avg_bias)\n",
    "print('Average variance: %.3f' % avg_var)"
   ]
  },
  {
   "cell_type": "markdown",
   "id": "107569fb-3fed-4c78-a83e-4141e81b6004",
   "metadata": {},
   "source": [
    "### The best model"
   ]
  },
  {
   "cell_type": "code",
   "execution_count": 22,
   "id": "7394c5b7-e676-48a7-9319-06da010ce5fe",
   "metadata": {
    "execution": {
     "iopub.execute_input": "2021-04-10T16:47:49.502781Z",
     "iopub.status.busy": "2021-04-10T16:47:49.501781Z",
     "iopub.status.idle": "2021-04-10T16:47:50.044696Z",
     "shell.execute_reply": "2021-04-10T16:47:50.042696Z",
     "shell.execute_reply.started": "2021-04-10T16:47:49.502781Z"
    },
    "tags": []
   },
   "outputs": [
    {
     "name": "stdout",
     "output_type": "stream",
     "text": [
      "Average expected loss(MSE): 0.006\n",
      "Average bias: 0.004\n",
      "Average variance: 0.002\n"
     ]
    }
   ],
   "source": [
    "# estimate bias and variance\n",
    "avg_expected_loss, avg_bias, avg_var = bias_variance_decomp(\n",
    "        poly_model_degree2, X_train, y_train, X_test, y_test, \n",
    "        loss='mse',\n",
    "        random_seed=20210410)\n",
    "\n",
    "# summarize results\n",
    "print('Average expected loss(MSE): %.3f' % avg_expected_loss)\n",
    "print('Average bias: %.3f' % avg_bias)\n",
    "print('Average variance: %.3f' % avg_var)"
   ]
  },
  {
   "cell_type": "markdown",
   "id": "8333fb0b-deb0-4b4a-9717-ae74c84fd34f",
   "metadata": {},
   "source": [
    "### Bad training model"
   ]
  },
  {
   "cell_type": "code",
   "execution_count": 23,
   "id": "0e42ee85-4585-4728-8440-b7e5e752070c",
   "metadata": {
    "execution": {
     "iopub.execute_input": "2021-04-10T16:47:50.047697Z",
     "iopub.status.busy": "2021-04-10T16:47:50.046698Z",
     "iopub.status.idle": "2021-04-10T16:47:50.405640Z",
     "shell.execute_reply": "2021-04-10T16:47:50.403639Z",
     "shell.execute_reply.started": "2021-04-10T16:47:50.047697Z"
    },
    "tags": []
   },
   "outputs": [
    {
     "name": "stdout",
     "output_type": "stream",
     "text": [
      "Average expected loss(MSE): 140.643\n",
      "Average bias: 1.412\n",
      "Average variance: 139.231\n"
     ]
    }
   ],
   "source": [
    "# estimate bias and variance\n",
    "avg_expected_loss, avg_bias, avg_var = bias_variance_decomp(\n",
    "        poly_model_degree27, X_train, y_train, X_test, y_test, \n",
    "        loss='mse',\n",
    "        random_seed=20210410)\n",
    "\n",
    "# summarize results\n",
    "print('Average expected loss(MSE): %.3f' % avg_expected_loss)\n",
    "print('Average bias: %.3f' % avg_bias)\n",
    "print('Average variance: %.3f' % avg_var)"
   ]
  }
 ],
 "metadata": {
  "kernelspec": {
   "display_name": "Python 3",
   "language": "python",
   "name": "python3"
  },
  "language_info": {
   "codemirror_mode": {
    "name": "ipython",
    "version": 3
   },
   "file_extension": ".py",
   "mimetype": "text/x-python",
   "name": "python",
   "nbconvert_exporter": "python",
   "pygments_lexer": "ipython3",
   "version": "3.7.10"
  }
 },
 "nbformat": 4,
 "nbformat_minor": 5
}
